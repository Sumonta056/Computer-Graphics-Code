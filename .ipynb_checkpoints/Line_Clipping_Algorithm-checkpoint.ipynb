{
 "cells": [
  {
   "cell_type": "code",
   "execution_count": 152,
   "id": "2903bbf0",
   "metadata": {},
   "outputs": [],
   "source": [
    "import matplotlib.pyplot as plt"
   ]
  },
  {
   "cell_type": "markdown",
   "id": "767da504",
   "metadata": {},
   "source": [
    "## Window"
   ]
  },
  {
   "cell_type": "code",
   "execution_count": 153,
   "id": "734cf312",
   "metadata": {},
   "outputs": [],
   "source": [
    "x_lim = [20, 90, 90, 20, 20]\n",
    "y_lim = [20, 20, 70, 70, 20]"
   ]
  },
  {
   "cell_type": "code",
   "execution_count": 154,
   "id": "02f417b2",
   "metadata": {},
   "outputs": [],
   "source": [
    "x_min, x_max = min(x_lim), max(x_lim)\n",
    "y_min, y_max = min(y_lim), max(y_lim)"
   ]
  },
  {
   "cell_type": "code",
   "execution_count": 155,
   "id": "817f5286",
   "metadata": {},
   "outputs": [
    {
     "name": "stdout",
     "output_type": "stream",
     "text": [
      "20 90\n",
      "20 70\n"
     ]
    }
   ],
   "source": [
    "print(x_min, x_max)\n",
    "print(y_min, y_max)"
   ]
  },
  {
   "cell_type": "markdown",
   "id": "18e848da",
   "metadata": {},
   "source": [
    "## Predefined parameters"
   ]
  },
  {
   "cell_type": "code",
   "execution_count": 156,
   "id": "aeba36e1",
   "metadata": {},
   "outputs": [],
   "source": [
    "Top = 8 #1000\n",
    "Bottom = 4 #0100 \n",
    "Right = 2 #0010\n",
    "Left = 1 #0001\n",
    "Inside = 0"
   ]
  },
  {
   "cell_type": "markdown",
   "id": "0c752040",
   "metadata": {},
   "source": [
    "## Assign the region code"
   ]
  },
  {
   "cell_type": "code",
   "execution_count": 157,
   "id": "88c33874",
   "metadata": {},
   "outputs": [],
   "source": [
    "def region_code(x, y):\n",
    "    code = Inside\n",
    "    \n",
    "    if x < x_min :\n",
    "        code |= Left\n",
    "        \n",
    "    elif x > x_max :\n",
    "        code |= Right\n",
    "    \n",
    "    if y < y_min :\n",
    "        code |= Bottom\n",
    "    \n",
    "    elif y > y_max:\n",
    "        code |= Top\n",
    "    \n",
    "    return code"
   ]
  },
  {
   "cell_type": "markdown",
   "id": "50f38cb9",
   "metadata": {},
   "source": [
    "## Line clipping"
   ]
  },
  {
   "cell_type": "code",
   "execution_count": 158,
   "id": "adf58609",
   "metadata": {},
   "outputs": [],
   "source": [
    "def line_clipping(x1, y1, x2, y2):\n",
    "    \n",
    "    m = (y2 - y1) / (x2 - x1)\n",
    "    \n",
    "    counter = 0\n",
    "    \n",
    "    while True:\n",
    "\n",
    "        code1 = region_code(x1, y1)\n",
    "        code2 = region_code(x2, y2)\n",
    "        \n",
    "        if (code1 | code2 == 0) or (code1 & code2 !=0):\n",
    "            break\n",
    "        \n",
    "        if code1 != 0:\n",
    "            code_out = code1\n",
    "        \n",
    "        else:\n",
    "            code_out = code2\n",
    "            \n",
    "        \n",
    "        if code_out & Top:\n",
    "            y = y_max\n",
    "            x = x1 + (y - y1) / m\n",
    "        \n",
    "        elif code_out & Bottom:\n",
    "            y = y_min\n",
    "            x = x1 + (y - y1) / m\n",
    "        \n",
    "        elif code_out & Right:\n",
    "            x = x_max\n",
    "            y = y1 + m * (x - x1)\n",
    "        \n",
    "        elif code_out & Left:\n",
    "            x = x_min\n",
    "            y = y1 + m * (x - x1)\n",
    "            \n",
    "            \n",
    "        if code_out == code1:\n",
    "            x1, y1 = x, y\n",
    "        else:\n",
    "            x2, y2 = x, y\n",
    "    \n",
    "    print(\"After clipping :\")\n",
    "    print(f\"x1 : {x1}, y1 : {y1}\")\n",
    "    print(f\"x2 : {x2}, y2 : {y2}\")\n",
    "    \n",
    "    x_values = [x1, x2]\n",
    "    y_values = [y1, y2]\n",
    "    \n",
    "    return x_values, y_values"
   ]
  },
  {
   "cell_type": "markdown",
   "id": "3be9b9a3",
   "metadata": {},
   "source": [
    "## Drawing"
   ]
  },
  {
   "cell_type": "code",
   "execution_count": 159,
   "id": "76b5e8f7",
   "metadata": {},
   "outputs": [],
   "source": [
    "def plot_func(x_values, y_values, clip_x, clip_y):\n",
    "    plt.plot(x_values, y_values, color = 'red')\n",
    "    plt.plot(clip_x, clip_y, color = 'blue')\n",
    "    plt.plot(x_lim, y_lim, linestyle = 'dotted', color = 'black')\n",
    "    plt.title(\"Cohen Sutherland Line Clipping Algorithm\")\n",
    "    plt.xlabel(\"x-axis\")\n",
    "    plt.ylabel(\"y-axis\")"
   ]
  },
  {
   "cell_type": "markdown",
   "id": "817b1d28",
   "metadata": {},
   "source": [
    "## Testing"
   ]
  },
  {
   "cell_type": "code",
   "execution_count": 160,
   "id": "8360a5f4",
   "metadata": {},
   "outputs": [
    {
     "name": "stdout",
     "output_type": "stream",
     "text": [
      "After clipping :\n",
      "x1 : 23.67816091954023, y1 : 20\n",
      "x2 : 63.9080459770115, y2 : 70\n"
     ]
    }
   ],
   "source": [
    "x1, y1 = 10, 3\n",
    "x2, y2 = 80, 90\n",
    "\n",
    "x_values = [x1, x2]\n",
    "y_values = [y1, y2]\n",
    "clip_x, clip_y = line_clipping(x1, y1, x2, y2)"
   ]
  },
  {
   "cell_type": "code",
   "execution_count": 161,
   "id": "0b41e220",
   "metadata": {},
   "outputs": [
    {
     "data": {
      "image/png": "[encoded data removed]",
      "text/plain": [
       "<Figure size 640x480 with 1 Axes>"
      ]
     },
     "metadata": {},
     "output_type": "display_data"
    }
   ],
   "source": [
    "plot_func(x_values, y_values, clip_x, clip_y)"
   ]
  },
  {
   "cell_type": "code",
   "execution_count": null,
   "id": "1fb747cb",
   "metadata": {},
   "outputs": [],
   "source": []
  }
 ],
 "metadata": {
  "kernelspec": {
   "display_name": "Python 3 (ipykernel)",
   "language": "python",
   "name": "python3"
  },
  "language_info": {
   "codemirror_mode": {
    "name": "ipython",
    "version": 3
   },
   "file_extension": ".py",
   "mimetype": "text/x-python",
   "name": "python",
   "nbconvert_exporter": "python",
   "pygments_lexer": "ipython3",
   "version": "3.11.5"
  }
 },
 "nbformat": 4,
 "nbformat_minor": 5
}
